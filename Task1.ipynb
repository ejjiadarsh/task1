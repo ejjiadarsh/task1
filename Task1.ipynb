{
 "cells": [
  {
   "cell_type": "markdown",
   "id": "8f7ed3a9-4144-435e-ac8c-d51f432e0ae5",
   "metadata": {},
   "source": [
    "# TASK 1 :         ETL PIPELINE"
   ]
  },
  {
   "cell_type": "markdown",
   "id": "93ab67a7-05c2-4ee0-8a62-fbccbc96c485",
   "metadata": {},
   "source": [
    "## Project: Preprocessing Pipeline for Diabetes Risk Prediction"
   ]
  },
  {
   "cell_type": "markdown",
   "id": "9984b89e-2165-4973-8f04-b74cde6fd474",
   "metadata": {},
   "source": [
    "### Dataset: Pima Indians Diabetes"
   ]
  },
  {
   "cell_type": "markdown",
   "id": "8b60b625-28fe-49af-a261-d0b86cb4b455",
   "metadata": {},
   "source": [
    "### Output: Cleaned data ready for machine learning"
   ]
  },
  {
   "cell_type": "code",
   "execution_count": 12,
   "id": "2c0acbc7-bca0-43b9-ad06-3493dad8af03",
   "metadata": {},
   "outputs": [],
   "source": [
    "import pandas as pd\n",
    "import numpy as np\n",
    "from sklearn.preprocessing import StandardScaler\n",
    "from sklearn.impute import SimpleImputer"
   ]
  },
  {
   "cell_type": "code",
   "execution_count": 14,
   "id": "0bc5d93b-d30d-4277-bc8d-8edeb98715e8",
   "metadata": {},
   "outputs": [
    {
     "name": "stdout",
     "output_type": "stream",
     "text": [
      "✅ Dataset loaded successfully!\n",
      "Original shape: (768, 9)\n",
      "Sample rows:\n",
      "    Pregnancies  Glucose  BloodPressure  SkinThickness  Insulin   BMI  \\\n",
      "0            6      148             72             35        0  33.6   \n",
      "1            1       85             66             29        0  26.6   \n",
      "2            8      183             64              0        0  23.3   \n",
      "3            1       89             66             23       94  28.1   \n",
      "4            0      137             40             35      168  43.1   \n",
      "\n",
      "   DiabetesPedigreeFunction  Age  Outcome  \n",
      "0                     0.627   50        1  \n",
      "1                     0.351   31        0  \n",
      "2                     0.672   32        1  \n",
      "3                     0.167   21        0  \n",
      "4                     2.288   33        1  \n",
      "\n",
      "🔄 Replaced 0s with NaN in: ['Glucose', 'BloodPressure', 'SkinThickness', 'Insulin', 'BMI']\n",
      "🧪 Missing values before imputation:\n",
      " Glucose            5\n",
      "BloodPressure     35\n",
      "SkinThickness    227\n",
      "Insulin          374\n",
      "BMI               11\n",
      "dtype: int64\n",
      "✅ Missing values imputed.\n",
      "📊 Scaling complete. Preview:\n",
      "    Pregnancies   Glucose  BloodPressure  SkinThickness   Insulin       BMI  \\\n",
      "0     0.639947  0.866045      -0.031990       0.670643 -0.181541  0.166619   \n",
      "1    -0.844885 -1.205066      -0.528319      -0.012301 -0.181541 -0.852200   \n",
      "2     1.233880  2.016662      -0.693761      -0.012301 -0.181541 -1.332500   \n",
      "3    -0.844885 -1.073567      -0.528319      -0.695245 -0.540642 -0.633881   \n",
      "4    -1.141852  0.504422      -2.679076       0.670643  0.316566  1.549303   \n",
      "\n",
      "   DiabetesPedigreeFunction       Age  Outcome  \n",
      "0                  0.468492  1.425995        1  \n",
      "1                 -0.365061 -0.190672        0  \n",
      "2                  0.604397 -0.105584        1  \n",
      "3                 -0.920763 -1.041549        0  \n",
      "4                  5.484909 -0.020496        1  \n",
      "✅ Cleaned dataset saved as 'cleaned_diabetes_data.csv'.\n"
     ]
    }
   ],
   "source": [
    "try:\n",
    "    # Load dataset\n",
    "    df = pd.read_csv(\"diabetes.csv\")\n",
    "    print(\"✅ Dataset loaded successfully!\")\n",
    "    print(\"Original shape:\", df.shape)\n",
    "    print(\"Sample rows:\\n\", df.head())\n",
    "\n",
    "    # Replace 0s with np.nan in relevant columns\n",
    "    columns_with_zeros = ['Glucose', 'BloodPressure', 'SkinThickness', 'Insulin', 'BMI']\n",
    "    df[columns_with_zeros] = df[columns_with_zeros].replace(0, np.nan)\n",
    "    print(\"\\n🔄 Replaced 0s with NaN in:\", columns_with_zeros)\n",
    "    print(\"🧪 Missing values before imputation:\\n\", df[columns_with_zeros].isnull().sum())\n",
    "\n",
    "    # Impute missing values using median\n",
    "    imputer = SimpleImputer(strategy='median')\n",
    "    df[columns_with_zeros] = imputer.fit_transform(df[columns_with_zeros])\n",
    "    print(\"✅ Missing values imputed.\")\n",
    "\n",
    "    # Scale features\n",
    "    scaler = StandardScaler()\n",
    "    features = df.drop('Outcome', axis=1)\n",
    "    scaled_features = scaler.fit_transform(features)\n",
    "\n",
    "    df_scaled = pd.DataFrame(scaled_features, columns=features.columns)\n",
    "    df_scaled['Outcome'] = df['Outcome']\n",
    "    print(\"📊 Scaling complete. Preview:\\n\", df_scaled.head())\n",
    "\n",
    "    # Save cleaned dataset\n",
    "    df_scaled.to_csv(\"cleaned_diabetes_data.csv\", index=False)\n",
    "    print(\"✅ Cleaned dataset saved as 'cleaned_diabetes_data.csv'.\")\n",
    "\n",
    "except FileNotFoundError:\n",
    "    print(\"❌ File not found: Please make sure 'diabetes.csv' is in the working directory.\")\n",
    "except Exception as e:\n",
    "    print(\"❌ Unexpected error:\", str(e))"
   ]
  },
  {
   "cell_type": "markdown",
   "id": "dbc81d4b-0c82-457a-99cc-ca8d47f6b6f4",
   "metadata": {},
   "source": [
    "### Key Preprocessing Steps:\n"
   ]
  },
  {
   "cell_type": "markdown",
   "id": "af81ebb1-447d-4a67-b106-bf9a2dbf211b",
   "metadata": {},
   "source": [
    "#### 1.Data Loading:\n",
    "Read the raw CSV file using pandas."
   ]
  },
  {
   "cell_type": "markdown",
   "id": "1adb6710-bea7-44d9-bb74-b4f28a6cc1ed",
   "metadata": {},
   "source": [
    "#### 2.invalid Values Handling:\n",
    "Replaced 0s with NaN in: ['Glucose', 'BloodPressure', 'SkinThickness', 'Insulin', 'BMI']"
   ]
  },
  {
   "cell_type": "markdown",
   "id": "a7071303-b8a3-43d3-8707-44b152b38cf6",
   "metadata": {},
   "source": [
    "#### 3.Missing Value Imputation:\n",
    "\n",
    "Used SimpleImputer with median strategy to fill missing values.\n",
    "\n",
    "Median is preferred in medical datasets due to outliers (e.g., extreme blood sugar levels).\n",
    "\n"
   ]
  },
  {
   "cell_type": "markdown",
   "id": "e9574da5-9cd8-4d78-8572-c1b3925665b8",
   "metadata": {},
   "source": [
    "### 4.Feature Scaling:\n",
    "\n",
    "Applied StandardScaler to normalize all features (zero mean, unit variance).\n",
    "\n",
    "Scaling improves model performance, especially for deep learning.\n",
    "\n"
   ]
  },
  {
   "cell_type": "markdown",
   "id": "a3c9829f-04d6-4c80-a0af-c988e3c0894f",
   "metadata": {},
   "source": [
    "#### Cleaned Output:\n",
    "\n",
    "Saved the processed dataset as cleaned_diabetes_data.csv for further use.\n",
    "\n"
   ]
  },
  {
   "cell_type": "markdown",
   "id": "f9fec0ea-aa36-4bc3-996c-7b0c019f86f6",
   "metadata": {},
   "source": [
    "### ✅ Outcome:\n",
    "\n",
    "A fully cleaned and scaled medical dataset, ready for model training.\n",
    "\n"
   ]
  }
 ],
 "metadata": {
  "kernelspec": {
   "display_name": "Python 3 (ipykernel)",
   "language": "python",
   "name": "python3"
  },
  "language_info": {
   "codemirror_mode": {
    "name": "ipython",
    "version": 3
   },
   "file_extension": ".py",
   "mimetype": "text/x-python",
   "name": "python",
   "nbconvert_exporter": "python",
   "pygments_lexer": "ipython3",
   "version": "3.12.4"
  }
 },
 "nbformat": 4,
 "nbformat_minor": 5
}
